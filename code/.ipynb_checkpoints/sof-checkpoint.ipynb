{
 "cells": [
  {
   "cell_type": "code",
   "execution_count": 24,
   "id": "5461fc03",
   "metadata": {
    "ExecuteTime": {
     "end_time": "2021-11-16T18:04:06.480478Z",
     "start_time": "2021-11-16T18:04:06.470775Z"
    }
   },
   "outputs": [],
   "source": [
    "import numpy as np\n",
    "import pandas as pd\n",
    "from astropy.io import fits\n",
    "import glob\n",
    "import os, re\n",
    "from bs4 import BeautifulSoup "
   ]
  },
  {
   "cell_type": "code",
   "execution_count": 9,
   "id": "8993c2fc",
   "metadata": {
    "ExecuteTime": {
     "end_time": "2021-11-16T17:57:30.354337Z",
     "start_time": "2021-11-16T17:57:30.341246Z"
    }
   },
   "outputs": [],
   "source": [
    "## Define paths\n",
    "basepath = '/Volumes/Seagate/MUSE'\n",
    "datapath = f'{basepath}/raw_data'\n",
    "sofpath = f'{basepath}/sof'\n",
    "prepath = f'{basepath}/scibasic_out'\n",
    "postpath = f'{basepath}/scipost_out'\n",
    "calpath = '/Users/isabelkain/Desktop/MUSE/share/esopipes/datastatic/muse-2.8.5'\n"
   ]
  },
  {
   "cell_type": "markdown",
   "id": "bba2eb79",
   "metadata": {},
   "source": [
    "## SCIBASIC SOF"
   ]
  },
  {
   "cell_type": "code",
   "execution_count": 5,
   "id": "eab95759",
   "metadata": {
    "ExecuteTime": {
     "end_time": "2021-11-16T17:47:12.230481Z",
     "start_time": "2021-11-16T17:47:08.567908Z"
    },
    "collapsed": true
   },
   "outputs": [
    {
     "data": {
      "text/plain": [
       "['/Volumes/Seagate/MUSE/raw_data/MUSE.2018-04-21T06_23_20.820.xml',\n",
       " '/Volumes/Seagate/MUSE/raw_data/MUSE.2018-04-21T06_32_13.819.xml',\n",
       " '/Volumes/Seagate/MUSE/raw_data/MUSE.2018-04-21T07_07_42.823.xml',\n",
       " '/Volumes/Seagate/MUSE/raw_data/MUSE.2018-04-21T07_15_08.822.xml',\n",
       " '/Volumes/Seagate/MUSE/raw_data/MUSE.2018-04-21T07_22_34.820.xml',\n",
       " '/Volumes/Seagate/MUSE/raw_data/MUSE.2018-04-21T08_09_06.822.xml',\n",
       " '/Volumes/Seagate/MUSE/raw_data/MUSE.2018-04-22T06_27_43.821.xml',\n",
       " '/Volumes/Seagate/MUSE/raw_data/MUSE.2018-04-22T06_30_27.819.xml',\n",
       " '/Volumes/Seagate/MUSE/raw_data/MUSE.2018-04-22T06_37_55.822.xml',\n",
       " '/Volumes/Seagate/MUSE/raw_data/MUSE.2018-04-22T06_45_23.822.xml',\n",
       " '/Volumes/Seagate/MUSE/raw_data/MUSE.2018-04-22T06_52_51.821.xml',\n",
       " '/Volumes/Seagate/MUSE/raw_data/MUSE.2018-04-22T06_59_25.822.xml',\n",
       " '/Volumes/Seagate/MUSE/raw_data/MUSE.2018-04-22T07_32_10.822.xml',\n",
       " '/Volumes/Seagate/MUSE/raw_data/MUSE.2018-04-22T07_42_58.820.xml',\n",
       " '/Volumes/Seagate/MUSE/raw_data/MUSE.2018-04-22T07_53_46.822.xml',\n",
       " '/Volumes/Seagate/MUSE/raw_data/MUSE.2018-04-22T08_04_33.821.xml',\n",
       " '/Volumes/Seagate/MUSE/raw_data/MUSE.2018-04-22T08_14_24.821.xml',\n",
       " '/Volumes/Seagate/MUSE/raw_data/MUSE.2018-04-23T03_05_09.221.xml',\n",
       " '/Volumes/Seagate/MUSE/raw_data/MUSE.2018-04-23T03_12_31.220.xml',\n",
       " '/Volumes/Seagate/MUSE/raw_data/MUSE.2018-04-23T03_26_07.221.xml',\n",
       " '/Volumes/Seagate/MUSE/raw_data/MUSE.2018-04-23T05_10_16.973.xml',\n",
       " '/Volumes/Seagate/MUSE/raw_data/MUSE.2018-04-23T05_22_38.221.xml',\n",
       " '/Volumes/Seagate/MUSE/raw_data/MUSE.2018-04-23T05_34_59.219.xml',\n",
       " '/Volumes/Seagate/MUSE/raw_data/MUSE.2018-04-23T05_47_20.221.xml',\n",
       " '/Volumes/Seagate/MUSE/raw_data/MUSE.2018-04-23T05_58_53.220.xml',\n",
       " '/Volumes/Seagate/MUSE/raw_data/MUSE.2018-04-23T06_29_42.221.xml',\n",
       " '/Volumes/Seagate/MUSE/raw_data/MUSE.2018-04-23T06_42_03.221.xml',\n",
       " '/Volumes/Seagate/MUSE/raw_data/MUSE.2018-04-23T06_54_25.221.xml',\n",
       " '/Volumes/Seagate/MUSE/raw_data/MUSE.2018-04-23T07_06_46.972.xml',\n",
       " '/Volumes/Seagate/MUSE/raw_data/MUSE.2018-04-24T07_06_27.676.xml',\n",
       " '/Volumes/Seagate/MUSE/raw_data/MUSE.2018-04-24T07_08_04.677.xml',\n",
       " '/Volumes/Seagate/MUSE/raw_data/MUSE.2018-04-24T07_09_42.468.xml',\n",
       " '/Volumes/Seagate/MUSE/raw_data/MUSE.2018-06-19T02_51_52.179.xml',\n",
       " '/Volumes/Seagate/MUSE/raw_data/MUSE.2018-06-19T02_56_38.179.xml',\n",
       " '/Volumes/Seagate/MUSE/raw_data/MUSE.2018-06-19T03_01_24.178.xml',\n",
       " '/Volumes/Seagate/MUSE/raw_data/MUSE.2018-06-19T03_06_13.177.xml',\n",
       " '/Volumes/Seagate/MUSE/raw_data/MUSE.2018-06-19T03_11_05.177.xml',\n",
       " '/Volumes/Seagate/MUSE/raw_data/MUSE.2018-06-19T04_24_08.178.xml',\n",
       " '/Volumes/Seagate/MUSE/raw_data/MUSE.2018-06-19T04_31_29.179.xml',\n",
       " '/Volumes/Seagate/MUSE/raw_data/MUSE.2018-06-19T04_38_49.178.xml',\n",
       " '/Volumes/Seagate/MUSE/raw_data/MUSE.2018-06-19T04_46_09.179.xml',\n",
       " '/Volumes/Seagate/MUSE/raw_data/MUSE.2018-06-19T04_52_41.178.xml',\n",
       " '/Volumes/Seagate/MUSE/raw_data/MUSE.2018-06-19T05_00_05.179.xml',\n",
       " '/Volumes/Seagate/MUSE/raw_data/MUSE.2018-06-19T05_02_06.178.xml',\n",
       " '/Volumes/Seagate/MUSE/raw_data/MUSE.2018-06-19T05_05_33.178.xml',\n",
       " '/Volumes/Seagate/MUSE/raw_data/MUSE.2018-06-19T07_09_40.178.xml',\n",
       " '/Volumes/Seagate/MUSE/raw_data/MUSE.2018-06-19T07_17_00.178.xml',\n",
       " '/Volumes/Seagate/MUSE/raw_data/MUSE.2018-06-19T07_24_20.179.xml',\n",
       " '/Volumes/Seagate/MUSE/raw_data/MUSE.2018-06-19T07_31_39.986.xml',\n",
       " '/Volumes/Seagate/MUSE/raw_data/MUSE.2018-06-19T07_38_10.177.xml',\n",
       " '/Volumes/Seagate/MUSE/raw_data/MUSE.2018-06-19T07_55_40.178.xml',\n",
       " '/Volumes/Seagate/MUSE/raw_data/MUSE.2018-06-19T08_02_06.178.xml',\n",
       " '/Volumes/Seagate/MUSE/raw_data/MUSE.2018-06-19T08_08_33.985.xml',\n",
       " '/Volumes/Seagate/MUSE/raw_data/MUSE.2018-06-19T08_15_01.178.xml',\n",
       " '/Volumes/Seagate/MUSE/raw_data/MUSE.2018-06-19T08_21_37.177.xml',\n",
       " '/Volumes/Seagate/MUSE/raw_data/MUSE.2018-06-19T09_37_41.179.xml',\n",
       " '/Volumes/Seagate/MUSE/raw_data/MUSE.2018-06-19T09_40_10.983.xml',\n",
       " '/Volumes/Seagate/MUSE/raw_data/MUSE.2018-06-19T09_43_21.986.xml',\n",
       " '/Volumes/Seagate/MUSE/raw_data/MUSE.2018-06-19T09_47_44.178.xml',\n",
       " '/Volumes/Seagate/MUSE/raw_data/MUSE.2018-06-19T09_52_06.178.xml',\n",
       " '/Volumes/Seagate/MUSE/raw_data/MUSE.2018-06-19T09_56_26.984.xml',\n",
       " '/Volumes/Seagate/MUSE/raw_data/MUSE.2018-06-20T00_02_15.179.xml',\n",
       " '/Volumes/Seagate/MUSE/raw_data/MUSE.2018-06-20T00_09_34.179.xml',\n",
       " '/Volumes/Seagate/MUSE/raw_data/MUSE.2018-06-20T00_16_53.176.xml',\n",
       " '/Volumes/Seagate/MUSE/raw_data/MUSE.2018-06-20T00_24_13.180.xml',\n",
       " '/Volumes/Seagate/MUSE/raw_data/MUSE.2018-06-20T00_31_33.986.xml',\n",
       " '/Volumes/Seagate/MUSE/raw_data/MUSE.2018-06-20T00_38_54.179.xml',\n",
       " '/Volumes/Seagate/MUSE/raw_data/MUSE.2018-06-20T00_46_26.180.xml',\n",
       " '/Volumes/Seagate/MUSE/raw_data/MUSE.2018-06-20T05_36_50.178.xml',\n",
       " '/Volumes/Seagate/MUSE/raw_data/MUSE.2018-06-20T05_41_38.178.xml',\n",
       " '/Volumes/Seagate/MUSE/raw_data/MUSE.2018-06-20T05_47_01.178.xml',\n",
       " '/Volumes/Seagate/MUSE/raw_data/MUSE.2018-06-20T06_15_26.178.xml',\n",
       " '/Volumes/Seagate/MUSE/raw_data/MUSE.2018-06-20T06_20_45.985.xml',\n",
       " '/Volumes/Seagate/MUSE/raw_data/MUSE.2018-06-20T06_26_06.178.xml',\n",
       " '/Volumes/Seagate/MUSE/raw_data/MUSE.2018-06-20T06_42_37.178.xml',\n",
       " '/Volumes/Seagate/MUSE/raw_data/MUSE.2018-06-20T06_52_00.179.xml',\n",
       " '/Volumes/Seagate/MUSE/raw_data/MUSE.2018-06-20T07_01_20.177.xml',\n",
       " '/Volumes/Seagate/MUSE/raw_data/MUSE.2018-06-20T07_10_39.986.xml',\n",
       " '/Volumes/Seagate/MUSE/raw_data/MUSE.2018-06-20T07_19_12.179.xml',\n",
       " '/Volumes/Seagate/MUSE/raw_data/MUSE.2018-06-20T08_49_22.179.xml',\n",
       " '/Volumes/Seagate/MUSE/raw_data/MUSE.2018-06-20T09_04_22.178.xml',\n",
       " '/Volumes/Seagate/MUSE/raw_data/MUSE.2018-06-21T02_31_45.178.xml',\n",
       " '/Volumes/Seagate/MUSE/raw_data/MUSE.2018-06-21T02_46_10.179.xml',\n",
       " '/Volumes/Seagate/MUSE/raw_data/MUSE.2018-06-21T03_04_28.178.xml',\n",
       " '/Volumes/Seagate/MUSE/raw_data/MUSE.2018-06-21T03_15_54.177.xml',\n",
       " '/Volumes/Seagate/MUSE/raw_data/MUSE.2018-06-21T04_01_59.178.xml',\n",
       " '/Volumes/Seagate/MUSE/raw_data/MUSE.2018-06-21T04_12_59.175.xml',\n",
       " '/Volumes/Seagate/MUSE/raw_data/MUSE.2018-06-21T04_17_06.985.xml',\n",
       " '/Volumes/Seagate/MUSE/raw_data/MUSE.2018-06-21T04_36_42.179.xml',\n",
       " '/Volumes/Seagate/MUSE/raw_data/MUSE.2018-06-21T04_44_02.178.xml',\n",
       " '/Volumes/Seagate/MUSE/raw_data/MUSE.2018-06-21T04_51_22.179.xml',\n",
       " '/Volumes/Seagate/MUSE/raw_data/MUSE.2018-06-21T06_35_04.179.xml',\n",
       " '/Volumes/Seagate/MUSE/raw_data/MUSE.2018-06-21T06_40_49.178.xml',\n",
       " '/Volumes/Seagate/MUSE/raw_data/MUSE.2018-06-21T06_46_36.178.xml',\n",
       " '/Volumes/Seagate/MUSE/raw_data/MUSE.2018-06-21T06_57_32.985.xml',\n",
       " '/Volumes/Seagate/MUSE/raw_data/MUSE.2018-06-21T07_04_22.985.xml',\n",
       " '/Volumes/Seagate/MUSE/raw_data/MUSE.2018-06-21T07_10_23.178.xml',\n",
       " '/Volumes/Seagate/MUSE/raw_data/MUSE.2018-06-21T07_38_12.178.xml',\n",
       " '/Volumes/Seagate/MUSE/raw_data/MUSE.2018-06-21T07_45_31.985.xml',\n",
       " '/Volumes/Seagate/MUSE/raw_data/MUSE.2018-06-21T07_52_54.983.xml',\n",
       " '/Volumes/Seagate/MUSE/raw_data/MUSE.2018-06-21T08_00_14.983.xml',\n",
       " '/Volumes/Seagate/MUSE/raw_data/MUSE.2018-06-21T08_06_46.179.xml',\n",
       " '/Volumes/Seagate/MUSE/raw_data/MUSE.2018-06-21T09_37_17.178.xml',\n",
       " '/Volumes/Seagate/MUSE/raw_data/MUSE.2018-06-21T09_48_44.179.xml',\n",
       " '/Volumes/Seagate/MUSE/raw_data/MUSE.2018-06-21T10_00_11.180.xml',\n",
       " '/Volumes/Seagate/MUSE/raw_data/MUSE.2018-06-21T10_11_37.177.xml',\n",
       " '/Volumes/Seagate/MUSE/raw_data/MUSE.2018-06-22T02_26_06.931.xml',\n",
       " '/Volumes/Seagate/MUSE/raw_data/MUSE.2018-06-22T02_32_36.128.xml',\n",
       " '/Volumes/Seagate/MUSE/raw_data/MUSE.2018-06-22T02_37_27.126.xml',\n",
       " '/Volumes/Seagate/MUSE/raw_data/MUSE.2018-06-22T02_44_44.127.xml',\n",
       " '/Volumes/Seagate/MUSE/raw_data/MUSE.2018-06-22T02_52_04.128.xml',\n",
       " '/Volumes/Seagate/MUSE/raw_data/MUSE.2018-06-22T02_58_34.129.xml',\n",
       " '/Volumes/Seagate/MUSE/raw_data/MUSE.2018-06-22T04_01_11.126.xml',\n",
       " '/Volumes/Seagate/MUSE/raw_data/MUSE.2018-06-22T04_17_38.128.xml',\n",
       " '/Volumes/Seagate/MUSE/raw_data/MUSE.2018-06-22T04_34_07.128.xml',\n",
       " '/Volumes/Seagate/MUSE/raw_data/MUSE.2018-06-22T04_50_33.128.xml',\n",
       " '/Volumes/Seagate/MUSE/raw_data/MUSE.2018-06-22T05_30_21.129.xml',\n",
       " '/Volumes/Seagate/MUSE/raw_data/MUSE.2018-06-22T05_45_53.128.xml',\n",
       " '/Volumes/Seagate/MUSE/raw_data/MUSE.2018-06-22T05_59_22.128.xml',\n",
       " '/Volumes/Seagate/MUSE/raw_data/MUSE.2018-06-22T06_06_50.128.xml',\n",
       " '/Volumes/Seagate/MUSE/raw_data/MUSE.2018-06-22T06_14_19.127.xml',\n",
       " '/Volumes/Seagate/MUSE/raw_data/MUSE.2018-06-22T06_21_50.127.xml',\n",
       " '/Volumes/Seagate/MUSE/raw_data/MUSE.2018-06-22T06_28_20.129.xml',\n",
       " '/Volumes/Seagate/MUSE/raw_data/MUSE.2018-06-22T06_49_47.128.xml',\n",
       " '/Volumes/Seagate/MUSE/raw_data/MUSE.2018-06-22T06_57_06.127.xml',\n",
       " '/Volumes/Seagate/MUSE/raw_data/MUSE.2018-06-22T07_03_23.932.xml',\n",
       " '/Volumes/Seagate/MUSE/raw_data/MUSE.2018-06-22T07_10_43.932.xml',\n",
       " '/Volumes/Seagate/MUSE/raw_data/MUSE.2018-06-22T08_37_23.129.xml',\n",
       " '/Volumes/Seagate/MUSE/raw_data/MUSE.2018-06-22T08_44_42.128.xml',\n",
       " '/Volumes/Seagate/MUSE/raw_data/MUSE.2018-06-22T08_52_05.128.xml',\n",
       " '/Volumes/Seagate/MUSE/raw_data/MUSE.2018-06-22T08_59_25.931.xml',\n",
       " '/Volumes/Seagate/MUSE/raw_data/MUSE.2018-06-22T09_05_57.128.xml']"
      ]
     },
     "execution_count": 5,
     "metadata": {},
     "output_type": "execute_result"
    }
   ],
   "source": [
    "## Grab XML filetrees -- this tells where all the data required\n",
    "## for preprocessing lives\n",
    "xml_files = glob.glob(f'{datapath}/*.xml*', recursive=True)\n",
    "xml_files"
   ]
  },
  {
   "cell_type": "code",
   "execution_count": 44,
   "id": "a1d2c877",
   "metadata": {
    "ExecuteTime": {
     "end_time": "2021-11-16T18:42:02.170114Z",
     "start_time": "2021-11-16T18:42:02.153302Z"
    }
   },
   "outputs": [],
   "source": [
    "fname_key = pd.DataFrame(columns=['Filename', 'Tag'])"
   ]
  },
  {
   "cell_type": "code",
   "execution_count": 48,
   "id": "d5a52db8",
   "metadata": {
    "ExecuteTime": {
     "end_time": "2021-11-16T18:44:06.315614Z",
     "start_time": "2021-11-16T18:44:06.304718Z"
    }
   },
   "outputs": [
    {
     "data": {
      "text/plain": [
       "'MUSE.2018-06-22T09_05_57.128'"
      ]
     },
     "execution_count": 48,
     "metadata": {},
     "output_type": "execute_result"
    }
   ],
   "source": [
    "xml.split('/')[-1].split('.xml')[0]"
   ]
  },
  {
   "cell_type": "code",
   "execution_count": 50,
   "id": "c04f9ae8",
   "metadata": {
    "ExecuteTime": {
     "end_time": "2021-11-16T18:47:33.490203Z",
     "start_time": "2021-11-16T18:47:27.911553Z"
    }
   },
   "outputs": [
    {
     "data": {
      "text/html": [
       "<div>\n",
       "<style scoped>\n",
       "    .dataframe tbody tr th:only-of-type {\n",
       "        vertical-align: middle;\n",
       "    }\n",
       "\n",
       "    .dataframe tbody tr th {\n",
       "        vertical-align: top;\n",
       "    }\n",
       "\n",
       "    .dataframe thead th {\n",
       "        text-align: right;\n",
       "    }\n",
       "</style>\n",
       "<table border=\"1\" class=\"dataframe\">\n",
       "  <thead>\n",
       "    <tr style=\"text-align: right;\">\n",
       "      <th></th>\n",
       "      <th>Filenames</th>\n",
       "      <th>Filetypes</th>\n",
       "    </tr>\n",
       "  </thead>\n",
       "  <tbody>\n",
       "    <tr>\n",
       "      <th>0</th>\n",
       "      <td>/Volumes/Seagate/MUSE/raw_data/MUSE.2018-04-21...</td>\n",
       "      <td>OBJECT</td>\n",
       "    </tr>\n",
       "    <tr>\n",
       "      <th>1</th>\n",
       "      <td>/Volumes/Seagate/MUSE/raw_data/M.MUSE.2019-09-...</td>\n",
       "      <td>ASTROMETRY_REFERENCE</td>\n",
       "    </tr>\n",
       "    <tr>\n",
       "      <th>2</th>\n",
       "      <td>/Volumes/Seagate/MUSE/raw_data/M.MUSE.2019-03-...</td>\n",
       "      <td>ASTROMETRY_WCS</td>\n",
       "    </tr>\n",
       "    <tr>\n",
       "      <th>3</th>\n",
       "      <td>/Volumes/Seagate/MUSE/raw_data/M.MUSE.2014-06-...</td>\n",
       "      <td>EXTINCT_TABLE</td>\n",
       "    </tr>\n",
       "    <tr>\n",
       "      <th>4</th>\n",
       "      <td>/Volumes/Seagate/MUSE/raw_data/M.MUSE.2014-06-...</td>\n",
       "      <td>FILTER_LIST</td>\n",
       "    </tr>\n",
       "    <tr>\n",
       "      <th>5</th>\n",
       "      <td>/Volumes/Seagate/MUSE/raw_data/M.MUSE.2017-05-...</td>\n",
       "      <td>GEOMETRY_TABLE</td>\n",
       "    </tr>\n",
       "    <tr>\n",
       "      <th>6</th>\n",
       "      <td>/Volumes/Seagate/MUSE/raw_data/MUSE.2018-04-21...</td>\n",
       "      <td>ILLUM</td>\n",
       "    </tr>\n",
       "    <tr>\n",
       "      <th>7</th>\n",
       "      <td>/Volumes/Seagate/MUSE/raw_data/M.MUSE.2019-03-...</td>\n",
       "      <td>LSF_PROFILE</td>\n",
       "    </tr>\n",
       "    <tr>\n",
       "      <th>8</th>\n",
       "      <td>/Volumes/Seagate/MUSE/raw_data/M.MUSE.2018-04-...</td>\n",
       "      <td>MASTER_BIAS</td>\n",
       "    </tr>\n",
       "    <tr>\n",
       "      <th>9</th>\n",
       "      <td>/Volumes/Seagate/MUSE/raw_data/M.MUSE.2018-04-...</td>\n",
       "      <td>MASTER_DARK</td>\n",
       "    </tr>\n",
       "    <tr>\n",
       "      <th>10</th>\n",
       "      <td>/Volumes/Seagate/MUSE/raw_data/M.MUSE.2018-04-...</td>\n",
       "      <td>MASTER_FLAT</td>\n",
       "    </tr>\n",
       "    <tr>\n",
       "      <th>11</th>\n",
       "      <td>/Volumes/Seagate/MUSE/raw_data/M.MUSE.2014-12-...</td>\n",
       "      <td>SKY_LINES</td>\n",
       "    </tr>\n",
       "    <tr>\n",
       "      <th>12</th>\n",
       "      <td>/Volumes/Seagate/MUSE/raw_data/M.MUSE.2019-04-...</td>\n",
       "      <td>STD_FLUX_TABLE</td>\n",
       "    </tr>\n",
       "    <tr>\n",
       "      <th>13</th>\n",
       "      <td>/Volumes/Seagate/MUSE/raw_data/M.MUSE.2018-04-...</td>\n",
       "      <td>STD_RESPONSE</td>\n",
       "    </tr>\n",
       "    <tr>\n",
       "      <th>14</th>\n",
       "      <td>/Volumes/Seagate/MUSE/raw_data/M.MUSE.2018-04-...</td>\n",
       "      <td>STD_TELLURIC</td>\n",
       "    </tr>\n",
       "    <tr>\n",
       "      <th>15</th>\n",
       "      <td>/Volumes/Seagate/MUSE/raw_data/M.MUSE.2018-04-...</td>\n",
       "      <td>TRACE_TABLE</td>\n",
       "    </tr>\n",
       "    <tr>\n",
       "      <th>16</th>\n",
       "      <td>/Volumes/Seagate/MUSE/raw_data/M.MUSE.2018-04-...</td>\n",
       "      <td>TWILIGHT_CUBE</td>\n",
       "    </tr>\n",
       "    <tr>\n",
       "      <th>17</th>\n",
       "      <td>/Volumes/Seagate/MUSE/raw_data/M.MUSE.2018-04-...</td>\n",
       "      <td>WAVECAL_TABLE</td>\n",
       "    </tr>\n",
       "  </tbody>\n",
       "</table>\n",
       "</div>"
      ],
      "text/plain": [
       "                                            Filenames             Filetypes\n",
       "0   /Volumes/Seagate/MUSE/raw_data/MUSE.2018-04-21...                OBJECT\n",
       "1   /Volumes/Seagate/MUSE/raw_data/M.MUSE.2019-09-...  ASTROMETRY_REFERENCE\n",
       "2   /Volumes/Seagate/MUSE/raw_data/M.MUSE.2019-03-...        ASTROMETRY_WCS\n",
       "3   /Volumes/Seagate/MUSE/raw_data/M.MUSE.2014-06-...         EXTINCT_TABLE\n",
       "4   /Volumes/Seagate/MUSE/raw_data/M.MUSE.2014-06-...           FILTER_LIST\n",
       "5   /Volumes/Seagate/MUSE/raw_data/M.MUSE.2017-05-...        GEOMETRY_TABLE\n",
       "6   /Volumes/Seagate/MUSE/raw_data/MUSE.2018-04-21...                 ILLUM\n",
       "7   /Volumes/Seagate/MUSE/raw_data/M.MUSE.2019-03-...           LSF_PROFILE\n",
       "8   /Volumes/Seagate/MUSE/raw_data/M.MUSE.2018-04-...           MASTER_BIAS\n",
       "9   /Volumes/Seagate/MUSE/raw_data/M.MUSE.2018-04-...           MASTER_DARK\n",
       "10  /Volumes/Seagate/MUSE/raw_data/M.MUSE.2018-04-...           MASTER_FLAT\n",
       "11  /Volumes/Seagate/MUSE/raw_data/M.MUSE.2014-12-...             SKY_LINES\n",
       "12  /Volumes/Seagate/MUSE/raw_data/M.MUSE.2019-04-...        STD_FLUX_TABLE\n",
       "13  /Volumes/Seagate/MUSE/raw_data/M.MUSE.2018-04-...          STD_RESPONSE\n",
       "14  /Volumes/Seagate/MUSE/raw_data/M.MUSE.2018-04-...          STD_TELLURIC\n",
       "15  /Volumes/Seagate/MUSE/raw_data/M.MUSE.2018-04-...           TRACE_TABLE\n",
       "16  /Volumes/Seagate/MUSE/raw_data/M.MUSE.2018-04-...         TWILIGHT_CUBE\n",
       "17  /Volumes/Seagate/MUSE/raw_data/M.MUSE.2018-04-...         WAVECAL_TABLE"
      ]
     },
     "metadata": {},
     "output_type": "display_data"
    }
   ],
   "source": [
    "## Iterate through XML files. Read pointers in each XML file. \n",
    "## From each XML file, build one SOF file containing paths and filetypes for each pointed file.\n",
    "\n",
    "for i, xml in enumerate(xml_files):\n",
    "\n",
    "    ## Open, parse XML file\n",
    "\n",
    "    with open(xml_files[i], 'r') as f:\n",
    "        data = f.read()\n",
    "        f.close()\n",
    "        \n",
    "    ## Save name of XML file, number tag\n",
    "    fname_key = fname_key.append({'Filename':xml.split('/')[-1].split('.xml')[0], 'Tag':i+1}, ignore_index=True)\n",
    "\n",
    "    bs_data = BeautifulSoup(data, 'xml')\n",
    "\n",
    "    ## Pull filenames and types from XML tree, save to pandas DF\n",
    "\n",
    "    filenames = []\n",
    "    filetypes = []\n",
    "\n",
    "    filedivs = bs_data.find_all('file')\n",
    "\n",
    "    for line in filedivs:\n",
    "\n",
    "        ## Pull filename and type from XML tree\n",
    "        catg = line['category']\n",
    "        name = line['name'].replace(':', '_')\n",
    "\n",
    "        ## Use XML filename to search for actual filename in data directory\n",
    "        ## (there are some weird formatting differences)\n",
    "        find_name = glob.glob(f'{datapath}/*{name}*.fits*')\n",
    "\n",
    "        if len(find_name) != 1:\n",
    "            print('ERROR: more than 1 filename match.', find_name)\n",
    "            continue\n",
    "\n",
    "        filenames.append(find_name[0])\n",
    "        filetypes.append(catg)\n",
    "\n",
    "    sofDF = pd.DataFrame(np.array([filenames, filetypes]).T, columns=('Filenames', 'Filetypes'))\n",
    "\n",
    "\n",
    "    ## Drop multiple frames for ILLUM, ___ (max allowed: 1 per image)\n",
    "    sofDF.drop_duplicates(subset='Filetypes', inplace=True, ignore_index=True)\n",
    "\n",
    "    if i==1:\n",
    "        display(sofDF)\n",
    "    \n",
    "    \n",
    "#     ## Check if all files the XML tree points to can been found\n",
    "\n",
    "#     check = []\n",
    "\n",
    "#     for pth in sofDF['Filenames']:\n",
    "#         check.append(os.path.exists(pth))\n",
    "\n",
    "#     print('All pointer files found in', xml_files[i], np.all(check))\n",
    "\n",
    "#     ## Write .sof file if passes check\n",
    "\n",
    "#     if check:\n",
    "#         sofDF.to_csv(f'{sofpath}/scibasic_{i+1}.sof', header=None, index=None, sep=' ')"
   ]
  },
  {
   "cell_type": "markdown",
   "id": "0a0b5ae3",
   "metadata": {},
   "source": [
    "## SCIPOST SOF"
   ]
  },
  {
   "cell_type": "code",
   "execution_count": 111,
   "id": "23335462",
   "metadata": {
    "ExecuteTime": {
     "end_time": "2021-11-16T19:40:49.219723Z",
     "start_time": "2021-11-16T19:40:48.862882Z"
    }
   },
   "outputs": [
    {
     "data": {
      "text/plain": [
       "['/Volumes/Seagate/MUSE/scibasic_out/sof1/']"
      ]
     },
     "execution_count": 111,
     "metadata": {},
     "output_type": "execute_result"
    }
   ],
   "source": [
    "folders = glob.glob(f'{prepath}/*/', recursive=False)\n",
    "\n",
    "if len(folders)==0:\n",
    "    raise ValueError('Preprocessing output not found, or not in expected file structure. Please organize output files or run muse_scibasic.')\n",
    "    \n",
    "folders"
   ]
  },
  {
   "cell_type": "code",
   "execution_count": 108,
   "id": "d063dfdb",
   "metadata": {
    "ExecuteTime": {
     "end_time": "2021-11-16T19:27:34.100475Z",
     "start_time": "2021-11-16T19:27:33.737570Z"
    }
   },
   "outputs": [
    {
     "name": "stdout",
     "output_type": "stream",
     "text": [
      "sof1 1\n"
     ]
    }
   ],
   "source": [
    "## Build SOF files for muse_scipost\n",
    "\n",
    "for fld in folders:\n",
    "    \n",
    "    ## Determine file number\n",
    "    \n",
    "    fstr = fld.split('/')[-2]\n",
    "    num = int(re.findall(r'\\d+', fstr)[0])\n",
    "    print(fstr, num)\n",
    "    \n",
    "    \n",
    "    ## Copy contents of scibasic_N.sof\n",
    "    \n",
    "    df = pd.read_csv(f'{sofpath}/scibasic_{num}.sof', delimiter=' ', names=['Filename', 'Type'])\n",
    "    \n",
    "    \n",
    "    ## Add PIXELTABLES (output from muse_scibasic)\n",
    "\n",
    "    pxtables = glob.glob(f'{folders[0]}*PIXTABLE*.fits')\n",
    "    \n",
    "    if len(pxtables)==0:\n",
    "        raise ValueError('Preprocessing output not found. Please run muse_scibasic.')\n",
    "\n",
    "    newrows = pd.DataFrame({'Filename':pxtables, 'Type':['PIXTABLE_OBJECT']*len(pxtables)})\n",
    "    df = df.append(newrows, ignore_index=True)\n",
    "                   \n",
    "    \n",
    "    ## Add LSF_PROFILE (need to dynamically create, or ok to use static calib?)\n",
    "    if np.sum(df['Type']=='LSF_PROFILE')==0:\n",
    "        df = df.append({'Path':f'{calpath}/lsf_profile_slow_nfm-ao-n.fits', 'Type':'LSF_PROFILE'}, ignore_index=True)\n",
    "    \n",
    "    ## Add ASTROMETRY_WCS\n",
    "    if np.sum(df['Type']=='ASTROMETRY_WCS')==0:\n",
    "        df = df.append({'Path':f'{calpath}/astrometry_wcs_nfm.fits', 'Type':'ASTROMETRY_WCS'}, ignore_index=True)\n",
    "    \n",
    "    ## Add FILTER_LIST\n",
    "    if np.sum(df['Type']=='FILTER_LIST')==0:\n",
    "        df = df.append({'Path':f'{calpath}/filter_list.fits', 'Type':'FILTER_LIST'}, ignore_index=True)\n",
    "   \n",
    "    ## Add SKY_LINES\n",
    "    if np.sum(df['Type']=='SKY_LINES')==0:\n",
    "        df = df.append({'Path':f'{calpath}/sky_lines.fits', 'Type':'SKY_LINES'}, ignore_index=True)\n",
    "\n",
    "    ## Add EXTINCT_TABLE\n",
    "    if np.sum(df['Type']=='EXTINCT_TABLE')==0:\n",
    "        df = df.append({'Path':f'{calpath}/extinct_table.fits', 'Type':'EXTINCT_TABLE'}, ignore_index=True)\n",
    "    \n",
    "    ## Add STD_RESPONSE\n",
    "    if np.sum(df['Type']=='STD_RESPONSE')==0:\n",
    "        df = df.append({'Path':f'{calpath}/std_response_nfm-ao-n.fits', 'Type':'STD_RESPONSE'}, ignore_index=True)\n",
    "    \n",
    "    ## Save as scipost_N.sof\n",
    "    df.to_csv(f'{sofpath}/scipost_{num}.sof', header=None, index=None, sep=' ')"
   ]
  },
  {
   "cell_type": "code",
   "execution_count": null,
   "id": "a13f802e",
   "metadata": {},
   "outputs": [],
   "source": [
    "## add LSF_PROFILE files\n",
    "\n",
    "for fld in folders:\n",
    "    \n",
    "    df = pd.DataFrame(columns=['Path', 'Type'])"
   ]
  },
  {
   "cell_type": "code",
   "execution_count": 65,
   "id": "e498e46b",
   "metadata": {
    "ExecuteTime": {
     "end_time": "2021-11-16T18:59:38.058680Z",
     "start_time": "2021-11-16T18:59:38.000218Z"
    }
   },
   "outputs": [
    {
     "data": {
      "text/plain": [
       "'MUSE.2018-04-21T06_23_20.820'"
      ]
     },
     "execution_count": 65,
     "metadata": {},
     "output_type": "execute_result"
    }
   ],
   "source": [
    "keys = pd.read_csv('/Volumes/Seagate/MUSE/filenames_key.txt', delimiter=' ')\n",
    "keys.loc[keys['Tag']==1, 'Filename'][0]"
   ]
  },
  {
   "cell_type": "code",
   "execution_count": 85,
   "id": "4b9d1a51",
   "metadata": {
    "ExecuteTime": {
     "end_time": "2021-11-16T19:10:27.138773Z",
     "start_time": "2021-11-16T19:10:27.099226Z"
    }
   },
   "outputs": [
    {
     "data": {
      "text/plain": [
       "14    /Volumes/Seagate/MUSE/raw_data/M.MUSE.2018-04-...\n",
       "Name: Filename, dtype: object"
      ]
     },
     "execution_count": 85,
     "metadata": {},
     "output_type": "execute_result"
    }
   ],
   "source": [
    "scibasic_sof = pd.read_csv(f'{sofpath}/scibasic_{1}.sof', delimiter=' ', names=['Filename', 'Type'], header=None)\n",
    "scibasic_sof.loc[scibasic_sof['Type']=='STD_TELLURIC', 'Filename']"
   ]
  },
  {
   "cell_type": "code",
   "execution_count": null,
   "id": "b7f00534",
   "metadata": {},
   "outputs": [],
   "source": []
  },
  {
   "cell_type": "code",
   "execution_count": null,
   "id": "df10be2c",
   "metadata": {},
   "outputs": [],
   "source": [
    "PIXTABLE_OBJECT_0001-01.fits PIXTABLE_OBJECT\n",
    "PIXTABLE_OBJECT_0001-02.fits PIXTABLE_OBJECT\n",
    "PIXTABLE_OBJECT_0001-03.fits PIXTABLE_OBJECT\n",
    "PIXTABLE_OBJECT_0001-04.fits PIXTABLE_OBJECT\n",
    "PIXTABLE_OBJECT_0001-05.fits PIXTABLE_OBJECT\n",
    "PIXTABLE_OBJECT_0001-06.fits PIXTABLE_OBJECT\n",
    "PIXTABLE_OBJECT_0001-07.fits PIXTABLE_OBJECT\n",
    "PIXTABLE_OBJECT_0001-08.fits PIXTABLE_OBJECT\n",
    "PIXTABLE_OBJECT_0001-09.fits PIXTABLE_OBJECT\n",
    "PIXTABLE_OBJECT_0001-10.fits PIXTABLE_OBJECT\n",
    "PIXTABLE_OBJECT_0001-11.fits PIXTABLE_OBJECT\n",
    "PIXTABLE_OBJECT_0001-12.fits PIXTABLE_OBJECT\n",
    "PIXTABLE_OBJECT_0001-13.fits PIXTABLE_OBJECT\n",
    "PIXTABLE_OBJECT_0001-14.fits PIXTABLE_OBJECT\n",
    "PIXTABLE_OBJECT_0001-15.fits PIXTABLE_OBJECT\n",
    "PIXTABLE_OBJECT_0001-16.fits PIXTABLE_OBJECT\n",
    "PIXTABLE_OBJECT_0001-17.fits PIXTABLE_OBJECT\n",
    "PIXTABLE_OBJECT_0001-18.fits PIXTABLE_OBJECT\n",
    "PIXTABLE_OBJECT_0001-19.fits PIXTABLE_OBJECT\n",
    "PIXTABLE_OBJECT_0001-20.fits PIXTABLE_OBJECT\n",
    "PIXTABLE_OBJECT_0001-21.fits PIXTABLE_OBJECT\n",
    "PIXTABLE_OBJECT_0001-22.fits PIXTABLE_OBJECT\n",
    "PIXTABLE_OBJECT_0001-23.fits PIXTABLE_OBJECT\n",
    "PIXTABLE_OBJECT_0001-24.fits PIXTABLE_OBJECT\n",
    "cal/LSF_PROFILE-01.fits LSF_PROFILE\n",
    "cal/LSF_PROFILE-02.fits LSF_PROFILE\n",
    "cal/LSF_PROFILE-03.fits LSF_PROFILE\n",
    "cal/LSF_PROFILE-04.fits LSF_PROFILE\n",
    "cal/LSF_PROFILE-05.fits LSF_PROFILE\n",
    "cal/LSF_PROFILE-06.fits LSF_PROFILE\n",
    "cal/LSF_PROFILE-07.fits LSF_PROFILE\n",
    "cal/LSF_PROFILE-08.fits LSF_PROFILE\n",
    "cal/LSF_PROFILE-09.fits LSF_PROFILE\n",
    "cal/LSF_PROFILE-10.fits LSF_PROFILE\n",
    "cal/LSF_PROFILE-11.fits LSF_PROFILE\n",
    "cal/LSF_PROFILE-12.fits LSF_PROFILE\n",
    "cal/LSF_PROFILE-13.fits LSF_PROFILE\n",
    "cal/LSF_PROFILE-14.fits LSF_PROFILE\n",
    "cal/LSF_PROFILE-15.fits LSF_PROFILE\n",
    "cal/LSF_PROFILE-16.fits LSF_PROFILE\n",
    "cal/LSF_PROFILE-17.fits LSF_PROFILE\n",
    "cal/LSF_PROFILE-18.fits LSF_PROFILE\n",
    "cal/LSF_PROFILE-19.fits LSF_PROFILE\n",
    "cal/LSF_PROFILE-20.fits LSF_PROFILE\n",
    "cal/LSF_PROFILE-21.fits LSF_PROFILE\n",
    "cal/LSF_PROFILE-22.fits LSF_PROFILE\n",
    "cal/LSF_PROFILE-23.fits LSF_PROFILE\n",
    "cal/LSF_PROFILE-24.fits LSF_PROFILE\n",
    "std/STD_TELLURIC_moffat.fits STD_TELLURIC\n",
    "cal/astrometry_wcs.fits ASTROMETRY_WCS\n",
    "cal/filters.fits FILTER_LIST\n",
    "cal/sky_lines.fits SKY_LINES\n",
    "cal/extinction_paranal.fits EXTINCT_TABLE\n",
    "std/STD_RESPONSE_moffat.fits STD_RESPONSE"
   ]
  },
  {
   "cell_type": "code",
   "execution_count": 38,
   "id": "8b33c7b9",
   "metadata": {
    "ExecuteTime": {
     "end_time": "2021-11-16T18:14:08.092425Z",
     "start_time": "2021-11-16T18:14:08.004421Z"
    }
   },
   "outputs": [
    {
     "ename": "ImportError",
     "evalue": "These files do not exist",
     "output_type": "error",
     "traceback": [
      "\u001b[0;31m---------------------------------------------------------------------------\u001b[0m",
      "\u001b[0;31mImportError\u001b[0m                               Traceback (most recent call last)",
      "\u001b[0;32m<ipython-input-38-c951aea60e57>\u001b[0m in \u001b[0;36m<module>\u001b[0;34m\u001b[0m\n\u001b[0;32m----> 1\u001b[0;31m \u001b[0;32mraise\u001b[0m \u001b[0mImportError\u001b[0m\u001b[0;34m(\u001b[0m\u001b[0;34m'These files do not exist'\u001b[0m\u001b[0;34m)\u001b[0m\u001b[0;34m\u001b[0m\u001b[0;34m\u001b[0m\u001b[0m\n\u001b[0m",
      "\u001b[0;31mImportError\u001b[0m: These files do not exist"
     ]
    }
   ],
   "source": [
    "raise ImportError('These files do not exist.')"
   ]
  },
  {
   "cell_type": "code",
   "execution_count": 39,
   "id": "967d68a4",
   "metadata": {
    "ExecuteTime": {
     "end_time": "2021-11-16T18:14:55.450228Z",
     "start_time": "2021-11-16T18:14:55.410747Z"
    }
   },
   "outputs": [
    {
     "ename": "NameError",
     "evalue": "name 'UserError' is not defined",
     "output_type": "error",
     "traceback": [
      "\u001b[0;31m---------------------------------------------------------------------------\u001b[0m",
      "\u001b[0;31mNameError\u001b[0m                                 Traceback (most recent call last)",
      "\u001b[0;32m<ipython-input-39-174ff27604b7>\u001b[0m in \u001b[0;36m<module>\u001b[0;34m\u001b[0m\n\u001b[0;32m----> 1\u001b[0;31m \u001b[0;32mraise\u001b[0m \u001b[0mUserError\u001b[0m\u001b[0;34m\u001b[0m\u001b[0;34m\u001b[0m\u001b[0m\n\u001b[0m",
      "\u001b[0;31mNameError\u001b[0m: name 'UserError' is not defined"
     ]
    }
   ],
   "source": [
    "raise UserError"
   ]
  },
  {
   "cell_type": "code",
   "execution_count": null,
   "id": "fead1521",
   "metadata": {},
   "outputs": [],
   "source": []
  }
 ],
 "metadata": {
  "kernelspec": {
   "display_name": "Python 3",
   "language": "python",
   "name": "python3"
  },
  "language_info": {
   "codemirror_mode": {
    "name": "ipython",
    "version": 3
   },
   "file_extension": ".py",
   "mimetype": "text/x-python",
   "name": "python",
   "nbconvert_exporter": "python",
   "pygments_lexer": "ipython3",
   "version": "3.8.8"
  },
  "toc": {
   "base_numbering": 1,
   "nav_menu": {},
   "number_sections": true,
   "sideBar": true,
   "skip_h1_title": false,
   "title_cell": "Table of Contents",
   "title_sidebar": "Contents",
   "toc_cell": false,
   "toc_position": {},
   "toc_section_display": true,
   "toc_window_display": false
  },
  "varInspector": {
   "cols": {
    "lenName": 16,
    "lenType": 16,
    "lenVar": 40
   },
   "kernels_config": {
    "python": {
     "delete_cmd_postfix": "",
     "delete_cmd_prefix": "del ",
     "library": "var_list.py",
     "varRefreshCmd": "print(var_dic_list())"
    },
    "r": {
     "delete_cmd_postfix": ") ",
     "delete_cmd_prefix": "rm(",
     "library": "var_list.r",
     "varRefreshCmd": "cat(var_dic_list()) "
    }
   },
   "types_to_exclude": [
    "module",
    "function",
    "builtin_function_or_method",
    "instance",
    "_Feature"
   ],
   "window_display": false
  }
 },
 "nbformat": 4,
 "nbformat_minor": 5
}
